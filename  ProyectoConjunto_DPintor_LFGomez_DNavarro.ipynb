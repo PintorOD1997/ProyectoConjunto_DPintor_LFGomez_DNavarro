{
 "cells": [
  {
   "cell_type": "markdown",
   "metadata": {},
   "source": [
    "<img style=\"float: left; margin: 30px 15px 15px 15px;\" src=\"https://pngimage.net/wp-content/uploads/2018/06/logo-iteso-png-5.png\" width=\"300\" height=\"500\" /> \n",
    "    \n",
    "    \n",
    "### <font color='navy'> Simulación de procesos financieros. \n",
    "\n",
    "**Nombres:** Diego Pintor Ochoa, Luis Felipe Gomez Estrada, Dayana Navarro Valencia.\n",
    "\n",
    "**Fecha:** 01 de febrero del 2021.\n",
    "\n",
    "**Expediente** : if726622, .\n",
    "**Profesor:** Oscar David Jaramillo Zuluaga.\n",
    "\n",
    "# Tarea 1: Clase 2"
   ]
  },
  {
   "cell_type": "markdown",
   "metadata": {},
   "source": [
    "## <font color=red>**Tarea 1- git**</font> \n",
    "Este archivo contiene las pautas necesarias para crear el archivo conjunto en Github, usando los notebooks de Jupyter:\n",
    "\n",
    "1.  El archivo debe realizarse en parejas y sólo uno de los dos debe crear en su cuenta de *Github* un repositorio con el nombre **ProyectoConjunto\\_APELLIDO1\\_APELLIDO2**. A la persona que creó el repositorio la llamaremos (ESTUDIANTE 1 ). El APELLIDO se debe de escribir (Iniciales del nombre y primer apellido), por ejemplo si yo creara el archivo lo debería de nombrar *ProyectoConjunto\\_ODJaramillo*. \n",
    "1.  Posteriormente, desde la cuenta del (ESTUDIANTE 2), 'aquel que no creó el repositorio anterior', ingresar al perfil del ESTUDIANTE 1 y en el repositorio creado en el paso 1, realizar un \"fork\" de este repositorio en su perfil, y además realizar los pasos en Gitkraken para hacer dicho repositorio \"Remoto (REMOTE)\" VER DICHO PROCEDIMIENTO EN LA CLASE **Clase2_GitTurorial2**.\n",
    "1.  Luego de realizados los pasos 1 y 2, el ESTUDIANTE 1 y ESTUDIANTE 2, desde su computador realizar un *clone* del repositorio creado en el numeral 1 en la carpeta que cada quién haya asignado para el curso en su computador. \n",
    "1.  Luego desde Jupyter el ESTUDIANTE 1, crea un nuevo ``notebook`` en el repositorio del paso 3. \n",
    "1.  En este nuevo notebook el ESTUDIANTE 1 y ESTUDIANTE 2, deben realizar una presentación describiendo sus expectativas del curso y la transcipción de la Figura 1 y Figura 2 respectivamente, haciendo uso de la sintaxis Markdown. Recuerden definir unas celdas donde cada usuario modificará el cuaderno de python para evitar futuros conflictos. \n",
    "\n",
    "**RECOMENDACIÓN:ANTES DE EMPEZAR A REALIZAR MUCHAS MODIFICACIONES DEL NOTEBOOK PRIMERO REALICEN CAMBIOS PEQUEÑOS EN EL ARCHIVO EN CONJUNTO Y VERIFIQUEN SI TANTO EL ``ESTUDIANTE 1`` COMO EL ``ESTUDIANTE 2``  RECIBEN LAS ACTUALIZACIONES QUE REALIZAN CADA UNO EN EL PROYECTO PARA VERIFICAR QUE EL REMOTE ESTUVO BIEN CONFIGURADO.**\n",
    ">Les recomiendo ver los siguientes enlaces para ver distintas funciones para escribir en markdown.\n",
    ">    - [Creador de tablas online](https://www.tablesgenerator.com/markdown_tables)\n",
    ">    - [Sintáxis markdown](https://joplinapp.org/markdown/)\n",
    "\n",
    "6. Cuando ya se encuentre el proyecto conjunto con la información del ESTUDIANTE 1 y ESTUDIANTE 2, el ``ESTUDIANTE 2``  debe de realizar un `pull request` con las modificaciones realizadas a el `ESTUDIANTE 1` para que este realice un merge a la rama `master`, con las moficaciones propuestas por el `ESTUDIANTE 2`, TAL Y CÓMO SE REALIZÓ EN CLASE. (Recuerden que los pull request se generan en *Gitkraken* y se administran los comentarios o cambios propuestos por su compañero desde *Github* ver `Clase1_GitTurorial` para aclaración de dudas, donde se explica cómo crear *branch y pull request*)\n",
    "7. Luego de culminado los pasos anteriores, el ESTUDIANTE 1,realizará un programa que imprima la serie de fibonacci para sus primeros 100 términos en un array de python,usando la rama “master” del repositorio creado. Por otro lado, el ESTUDIANTE 2,creando un “branch” llamado `ejerPrograma`, generará un programa que muestre los números primos del 0-100. Luego de que el ESTUDIANTE 2 haya terminado su programa, debe de realizar un “pull request” al ESTUDIANTE 1, **ANTES** de hacer un “merge” de la rama `ejerPrograma` en el proyecto principal (“master”). Luego de realizado estos pasos **NO BORRAR LA RAMA CREADA (`ejerPrograma`)**"
   ]
  },
  {
   "cell_type": "markdown",
   "metadata": {},
   "source": [
    "### Estudiante 1: Diego Pintor Ochoa"
   ]
  },
  {
   "cell_type": "markdown",
   "metadata": {},
   "source": [
    "#### Expectativas del Curso"
   ]
  },
  {
   "cell_type": "markdown",
   "metadata": {},
   "source": [
    "Espero aprender a utilizar herramientas que me ayuden a simular distintos escenarios financieros y sus impactos para poder crear expectativas o anticiparme a cambios en el mercado y así ayudar a cualquier lugar en el que me encuentre trabajando."
   ]
  },
  {
   "cell_type": "markdown",
   "metadata": {},
   "source": [
    "| $i$ | $x$ | $f(x)$ |\n",
    "|-|-|-|\n",
    "| $0$ | $-1$ | $0.3678$ |\n",
    "| $\\color{red}{1}$ | $\\color{red}{-0.5}$ | $\\color{red}{0.7788}$ |\n",
    "| $\\color{blue}{2}$ | $\\color{blue}{0}$ | $\\color{blue}{1}$ |\n",
    "| $\\color{red}{3}$ | $\\color{red}{0.5}$ | $\\color{red}{0.7788}$ |\n",
    "| $4$ | $1$ | $0.3678$ |\n",
    "\n",
    "<div align=\"center\">$\\text{Cuadro 1: Tabla de valores de} f(x)$</div>\n",
    "\n",
    "$$\\int_{-1}^{1}e^{-x^{2}}dx\\approx \\frac{0,5}{3}[f(-1)+f(1)+4(\\color{Red}{ f(-0,5)})+2\\color{Blue}{ f(0)}] \\\\\n",
    " \\quad \\quad  \\quad\\quad\\quad\\quad\\quad\\quad\\quad\\quad\\quad\\quad\\approx \\frac{0,5}{3}[0,3678 + 0,3678+4(\\color{Red}{0,7788+0,7788})+2\\cdot {\\color{Blue} 1})]\\approx 1,4943 $$\n",
    "\n",
    " $$\n",
    " \\text{A modo de verificación, se calculará por software, el valor del área para n = 100, un valor mucho}$$ \n",
    " $$\\text{más elevado al que se utilizó anteriormente. Si lo calculado previamente es correcto, se esperaría que }$$\n",
    " $$\\text{sea próximo al valor presentado a continuación para ser una buena aproximación.} $$ \n",
    " $$\\int_{-1}^{1}e^{-x^{2}}dx\\approx1,4943$$\n"
   ]
  },
  {
   "cell_type": "code",
   "execution_count": 6,
   "metadata": {},
   "outputs": [
    {
     "name": "stdout",
     "output_type": "stream",
     "text": [
      "[0, 1, 1, 2, 3, 5, 8, 13, 21, 34, 55, 89, 144, 233, 377, 610, 987, 1597, 2584, 4181, 6765, 10946, 17711, 28657, 46368, 75025, 121393, 196418, 317811, 514229, 832040, 1346269, 2178309, 3524578, 5702887, 9227465, 14930352, 24157817, 39088169, 63245986, 102334155, 165580141, 267914296, 433494437, 701408733, 1134903170, 1836311903, 2971215073, 4807526976, 7778742049, 12586269025, 20365011074, 32951280099, 53316291173, 86267571272, 139583862445, 225851433717, 365435296162, 591286729879, 956722026041, 1548008755920, 2504730781961, 4052739537881, 6557470319842, 10610209857723, 17167680177565, 27777890035288, 44945570212853, 72723460248141, 117669030460994, 190392490709135, 308061521170129, 498454011879264, 806515533049393, 1304969544928657, 2111485077978050, 3416454622906707, 5527939700884757, 8944394323791464, 14472334024676221, 23416728348467685, 37889062373143906, 61305790721611591, 99194853094755497, 160500643816367088, 259695496911122585, 420196140727489673, 679891637638612258, 1100087778366101931, 1779979416004714189, 2880067194370816120, 4660046610375530309, 7540113804746346429, 12200160415121876738, 19740274219868223167, 31940434634990099905, 51680708854858323072, 83621143489848422977, 135301852344706746049, 218922995834555169026]\n"
     ]
    }
   ],
   "source": [
    "# Código de solución \n",
    "# Programa que imprime los primeros 100 términos de la serie de Fibonacci en un array de python\n",
    "# Cuántos términos necesito?\n",
    "n = 100\n",
    "# Array\n",
    "array = []\n",
    "for i in range(n):\n",
    "    if i == 0:\n",
    "        array.append(0)\n",
    "    elif i == 1: \n",
    "        array.append(1)\n",
    "    else:\n",
    "        array.append(array[i - 1]+array[i - 2])\n",
    "print(array)\n",
    "    \n"
   ]
  },
  {
   "cell_type": "markdown",
   "metadata": {},
   "source": [
    "### Estudiante 2: Dayana Navarro Valencia "
   ]
  },
  {
   "cell_type": "markdown",
   "metadata": {},
   "source": [
    "#### EXPECTATIVAS DEL CURSO"
   ]
  },
  {
   "cell_type": "markdown",
   "metadata": {},
   "source": [
    "Espero mejorar en el uso de las herramientas de Git y GitKraken, además de adquirir nuevos conocimientos de programación y mejorar mis códigos."
   ]
  },
  {
   "cell_type": "markdown",
   "metadata": {},
   "source": [
    "#### Figura 2"
   ]
  },
  {
   "cell_type": "markdown",
   "metadata": {},
   "source": [
    "| $i$           | $1$  | $2$ | $3$ | $4$ | $5$ | $6$ | $7$ |\n",
    "| ----          | ---- |---- | ----| ----| ----| ----| ----|\n",
    "| $E_i(V)$      | $12$ |$10$ |$24$ |$12$ |$-$  |$-$  |$-$  |\n",
    "| $r_i(\\Omega)$ | $0.1$|$0.5$|$0.2$|$0.5$|$-$  |$-$  |$-$  |\n",
    "| $R_i(\\Omega)$ | $25$ |$40$ |$16$ |$20$ |$9$  |$4$  |$20$ |\n",
    "\n"
   ]
  },
  {
   "cell_type": "markdown",
   "metadata": {},
   "source": [
    "<font color=blue>Kemna y Vorst (1990) </font> muestran que las opciones asiáticas con media geométrica continua se pueden valuar con el mismo enfoque de las opciones *plain vanilla*; solo se deben cambiar los paámetros de volatilidad $\\sigma$ por $\\sigma_a$, y el costo de acarreo *$b$* por *$b_A$*\n",
    "    De acuerdo con Kemma y Vorst, las fórmulas para valuar una opción de compra y una opción de venta son:\n",
    "    \n",
    "$c≈ S_I e^{(b_A-r)(T-t)}\\Phi(d_1) - K_e^{-r(T-t)}\\Phi(d_2)$,\n",
    "\n",
    "$p≈ K_e^{-r(T-t)}\\Phi(-d_2) - S_I e^{(b_A-r)(T-t)}\\Phi(-d_1) $\n",
    "\n",
    "con $d_1$ y $d_2$ dados por:\n",
    "\n",
    "$ d_1 = \\frac{ln(S_t/K) + (b_A + 1/2\\sigma^2_a)(T-t)}{\\sigma \\sqrt{T-t}} $\n",
    "\n",
    "$ d_\" = d1-\\sigma \\sqrt{T-t}$\n",
    "\n",
    "La función $\\Phi(d)$ es la función de distribución acumulada de $E\\sim \\mathcal{N}(0,1)$. La volatilidad ajustada es igual a:\n",
    "\n",
    "$\\sigma_a = \\frac{\\sigma}{\\sqrt{3}}$\n",
    "\n",
    "mientras que el costo de acarreo ajustado es:\n",
    "\n",
    "$b_A = \\frac{1}{2} \\left(v- \\frac{\\sigma^2}{6} \\right)$\n",
    "\n",
    "    "
   ]
  },
  {
   "cell_type": "markdown",
   "metadata": {},
   "source": [
    "#### Programa que muestra los número primos del 0-100"
   ]
  },
  {
   "cell_type": "code",
   "execution_count": 1,
   "metadata": {},
   "outputs": [
    {
     "name": "stdout",
     "output_type": "stream",
     "text": [
      "[2, 3, 5, 7, 11, 13, 17, 19, 23, 29, 31, 37, 41, 43, 47, 53, 59, 61, 67, 71, 73, 79, 83, 89, 97]\n"
     ]
    }
   ],
   "source": [
    "X= [i for i in range(2,101)\n",
    "   if(i%2!=0 or i==2) and (i%3!=0 or i==3) and (i%5!=0 or i==5) and (i%7!=0 or i==7)]\n",
    "print(X)"
   ]
  },
  {
   "cell_type": "markdown",
   "metadata": {},
   "source": [
    "### Estudiante 3: Luis Felipe Gómez Estrada\n",
    "#### Expectativas del curso\n",
    "En este curso espero aprender a realizar simulaciones de procesos estocásticos utilizando distintos métodos eficientes, así como poder modelar procesos.  \n",
    "\n",
    "| $i$       | $1$   | $2$   | $3$   | $4$   | $5$ | $6$ | $7$  |\n",
    "|---------|-----|-----|-----|-----|---|---|----|\n",
    "| $E_i(V)$   | $12$  | $10$  | $24$  | $12$  | $-$ | $-$ | $-$  |\n",
    "| $r_i(\\Omega)$ | $0.1$ | $0.5$ | $0.2$ | $0.5$ | $-$ | $-$ | $-$  |\n",
    "| $R_i(\\Omega)$ | $25$  | $40$  | $16$  | $20$  | $9$ | $4$ | $20$ |  \n",
    "\n",
    "$\\color{#3e97cf}{\\text{Kemna y Vorst (1990)}}$ muestran que las opciones asiáticas con media geométrica continua se puede valuar con el mismo enfoque de las opciones *plain vanilla*; solo se deben cambiar los parámetros de volatilidad $\\sigma$ por $\\sigma_a$, y el costo de acarreo $b$ por $b_a$.  \n",
    "De acuerdo con Kemna y Vorst, las fórmulas para valuar una opción de compra y una opción de venta son:  \n",
    "$\\quad c \\approx S_t e^{(b_A - r)(T-t)}\\Phi(d_1) - Ke^{-r(T-t)}\\Phi(d_2), $  \n",
    "$\\quad p \\approx Ke^{-r(T-t)}\\Phi(-d_2) - S_te^{(b_A-r)(T-t)}\\Phi(-d_1). $  \n",
    "con $d_1$ y $d_2$ dados por:  \n",
    "$\\quad d_1 = \\frac{ln(S_t/K) + (b_A + 1/2\\sigma^2_a)(T-t)}{\\sigma \\sqrt{T-t}}, $  \n",
    "$\\quad d_2 = d_1 - \\sigma_a\\sqrt{T-t}. $  \n",
    "La función $\\Phi(d)$ es la función de distribución acumulada de $E \\sim \\mathcal{N}(0,1)$. La volatilidad ajustada es igual a:  \n",
    "$\\quad \\sigma_a = \\frac{\\sigma}{\\sqrt{3}}$  \n",
    "mientras que el costo de acarreo ajustado es:  \n",
    "$\\quad b_A = \\frac{1}{2} \\left( v - \\frac{\\sigma^2}{6} \\right)$\n",
    "\n",
    "\n"
   ]
  },
  {
   "cell_type": "code",
   "execution_count": 4,
   "metadata": {},
   "outputs": [
    {
     "name": "stdout",
     "output_type": "stream",
     "text": [
      "[0, 2, 3, 5, 7, 11, 13, 17, 19, 23, 29, 31, 37, 41, 43, 47, 53, 59, 61, 67, 71, 73, 79, 83, 89, 97]\n"
     ]
    }
   ],
   "source": [
    "# Numeros Primos 0-100\n",
    "import numpy as np\n",
    "def is_prime(n: int) -> bool:\n",
    "    \"\"\" Checks if a number is prime.\n",
    "    \n",
    "    Parameters\n",
    "    ----------\n",
    "    n : int\n",
    "        number to check\n",
    "        \n",
    "    Returns\n",
    "    -------\n",
    "    bool : indicating if the number is prime\n",
    "    \"\"\"\n",
    "    \n",
    "    if n == 1 or (n > 2 and n % 2 == 0):\n",
    "        return False\n",
    "    \n",
    "    if n == 2:\n",
    "        return True\n",
    "    \n",
    "    for i in range(3, int(n**0.5)+1, 2):\n",
    "        if n % i == 0:\n",
    "            return False\n",
    "    return True\n",
    "\n",
    "print([i for i in range(0,101) if is_prime(i)])"
   ]
  },
  {
   "cell_type": "markdown",
   "metadata": {},
   "source": [
    "#### Enlace al repositorio de GitHub\n",
    "\n",
    "[Repositorio de GitHub](https://github.com/PintorOD1997/ProyectoConjunto_DPintor_LFGomez_DNavarro)"
   ]
  },
  {
   "cell_type": "code",
   "execution_count": null,
   "metadata": {},
   "outputs": [],
   "source": []
  }
 ],
 "metadata": {
  "kernelspec": {
   "display_name": "Python 3",
   "language": "python",
   "name": "python3"
  },
  "language_info": {
   "codemirror_mode": {
    "name": "ipython",
    "version": 3
   },
   "file_extension": ".py",
   "mimetype": "text/x-python",
   "name": "python",
   "nbconvert_exporter": "python",
   "pygments_lexer": "ipython3",
   "version": "3.7.4"
  }
 },
 "nbformat": 4,
 "nbformat_minor": 2
}
